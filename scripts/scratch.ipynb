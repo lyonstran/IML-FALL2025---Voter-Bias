{
 "cells": [
  {
   "cell_type": "code",
   "execution_count": 71,
   "id": "583c6173",
   "metadata": {},
   "outputs": [],
   "source": [
    "import pandas as pd\n",
    "import numpy as np\n",
    "import matplotlib.pyplot as plt\n",
    "import seaborn as sns\n",
    "\n",
    "df = pd.read_csv(r'C:\\Users\\lyons\\OneDrive\\Desktop\\IML-FALL2025---Voter-Bias\\output_data\\cfb\\cfb_conf_aff.csv')\n"
   ]
  },
  {
   "cell_type": "code",
   "execution_count": 74,
   "id": "9ea4758a",
   "metadata": {},
   "outputs": [
    {
     "name": "stderr",
     "output_type": "stream",
     "text": [
      "C:\\Users\\lyons\\AppData\\Local\\Temp\\ipykernel_4532\\4137911192.py:1: UserWarning: Boolean Series key will be reindexed to match DataFrame index.\n",
      "  tmc_2014 = df[df[\"Season\"] == 2014][df[\"Conference\"].isna()][\"Team\"].unique().tolist()\n",
      "C:\\Users\\lyons\\AppData\\Local\\Temp\\ipykernel_4532\\4137911192.py:2: UserWarning: Boolean Series key will be reindexed to match DataFrame index.\n",
      "  tmc_2015 = df[df[\"Season\"] == 2015][df[\"Conference\"].isna()][\"Team\"].unique().tolist()\n",
      "C:\\Users\\lyons\\AppData\\Local\\Temp\\ipykernel_4532\\4137911192.py:3: UserWarning: Boolean Series key will be reindexed to match DataFrame index.\n",
      "  tmc_2016 = df[df[\"Season\"] == 2016][df[\"Conference\"].isna()][\"Team\"].unique().tolist()\n",
      "C:\\Users\\lyons\\AppData\\Local\\Temp\\ipykernel_4532\\4137911192.py:4: UserWarning: Boolean Series key will be reindexed to match DataFrame index.\n",
      "  tmc_2017 = df[df[\"Season\"] == 2017][df[\"Conference\"].isna()][\"Team\"].unique().tolist()\n",
      "C:\\Users\\lyons\\AppData\\Local\\Temp\\ipykernel_4532\\4137911192.py:5: UserWarning: Boolean Series key will be reindexed to match DataFrame index.\n",
      "  tmc_2018 = df[df[\"Season\"] == 2018][df[\"Conference\"].isna()][\"Team\"].unique().tolist()\n",
      "C:\\Users\\lyons\\AppData\\Local\\Temp\\ipykernel_4532\\4137911192.py:6: UserWarning: Boolean Series key will be reindexed to match DataFrame index.\n",
      "  tmc_2019 = df[df[\"Season\"] == 2019][df[\"Conference\"].isna()][\"Team\"].unique().tolist()\n",
      "C:\\Users\\lyons\\AppData\\Local\\Temp\\ipykernel_4532\\4137911192.py:7: UserWarning: Boolean Series key will be reindexed to match DataFrame index.\n",
      "  tmc_2020 = df[df[\"Season\"] == 2020][df[\"Conference\"].isna()][\"Team\"].unique().tolist()\n"
     ]
    },
    {
     "data": {
      "text/plain": [
       "['southern-methodist-mustangs',\n",
       " 'tcu-horned-frogs',\n",
       " 'texas-longhorns',\n",
       " 'north-dakota-state-bison',\n",
       " 'arkansas-razorbacks']"
      ]
     },
     "execution_count": 74,
     "metadata": {},
     "output_type": "execute_result"
    }
   ],
   "source": [
    "tmc_2014 = df[df[\"Season\"] == 2014][df[\"Conference\"].isna()][\"Team\"].unique().tolist()\n",
    "tmc_2015 = df[df[\"Season\"] == 2015][df[\"Conference\"].isna()][\"Team\"].unique().tolist()\n",
    "tmc_2016 = df[df[\"Season\"] == 2016][df[\"Conference\"].isna()][\"Team\"].unique().tolist()\n",
    "tmc_2017 = df[df[\"Season\"] == 2017][df[\"Conference\"].isna()][\"Team\"].unique().tolist()\n",
    "tmc_2018 = df[df[\"Season\"] == 2018][df[\"Conference\"].isna()][\"Team\"].unique().tolist()\n",
    "tmc_2019 = df[df[\"Season\"] == 2019][df[\"Conference\"].isna()][\"Team\"].unique().tolist()\n",
    "tmc_2020 = df[df[\"Season\"] == 2020][df[\"Conference\"].isna()][\"Team\"].unique().tolist()\n",
    "tmc_2020"
   ]
  },
  {
   "cell_type": "code",
   "execution_count": 75,
   "id": "648a8d26",
   "metadata": {},
   "outputs": [],
   "source": [
    "mtm_2014 = {\n",
    "    'michigan-wolverines' : 'big-ten',\n",
    "    'tcu-horned-frogs' : 'big-12',\n",
    "    'texas-longhorns' : 'big-12',\n",
    "    'arizona-wildcats' : 'pac-12',\n",
    "    'north-dakota-state-bison' : 'mvfc',\n",
    "    'utah-utes' : 'pac-12',\n",
    "    'virginia-cavaliers' : 'acc'\n",
    "}\n",
    "\n",
    "mtm_2015 = {\n",
    "    'arizona-wildcats' : 'pac-12',\n",
    "    'michigan-wolverines' : 'big-ten',\n",
    "    'tcu-horned-frogs' : 'big-12',\n",
    "    'texas-longhorns' : 'big-12',\n",
    "    'north-carolina-tar-heels' : 'acc'\n",
    "}\n",
    "\n",
    "mtm_2016 = {\n",
    "    'michigan-wolverines' : 'big-ten',\n",
    "    'tcu-horned-frogs' : 'big-12',\n",
    "    'texas-longhorns' : 'big-12',\n",
    "    'north-dakota-state-bison' : 'mvfc',\n",
    "    'southern-methodist-mustangs' : 'american' \n",
    "}\n",
    "\n",
    "mtm_2017 = {\n",
    "    'michigan-wolverines': 'big-ten',\n",
    "    'tcu-horned-frogs' : 'big-12',\n",
    "    'texas-longhorns' : 'big-12',\n",
    "    'iowa-hawkeyes' : 'big-ten',\n",
    "    'virginia-cavaliers' : 'acc'\n",
    "}\n",
    "\n",
    "mtm_2018 = {\n",
    "    'florida-gators' : 'sec',\n",
    "    'michigan-wolverines' : 'big-ten',\n",
    "    'tcu-horned-frogs' : 'big-12',\n",
    "    'texas-longhorns' : 'big-12',\n",
    "    'virginia-cavaliers' : 'acc'\n",
    "}\n",
    "\n",
    "mtm_2019 = {\n",
    "    'arizona-wildcats' : 'pac-12',\n",
    "    'michigan-wolverines' : 'big-ten',\n",
    "    'tcu-horned-frogs' : 'big-12',\n",
    "    'texas-longhorns' : 'big-12',\n",
    "    'utah-utes' : 'pac-12',\n",
    "    'north-dakota-state-bison' : 'mvfc',\n",
    "    'southern-methodist-mustangs' : 'american',\n",
    "    'louisiana-lafayette-ragin-cajuns' : 'sbc'\n",
    "}\n",
    "\n",
    "mtm_2020 = {\n",
    "    'southern-methodist-mustangs' : '',\n",
    "    'tcu-horned-frogs' : '',\n",
    "    'texas-longhorns' : '',\n",
    "    'north-dakota-state-bison' : '',\n",
    "    'arkansas-razorbacks' : ''\n",
    "}"
   ]
  }
 ],
 "metadata": {
  "kernelspec": {
   "display_name": "Python 3",
   "language": "python",
   "name": "python3"
  },
  "language_info": {
   "codemirror_mode": {
    "name": "ipython",
    "version": 3
   },
   "file_extension": ".py",
   "mimetype": "text/x-python",
   "name": "python",
   "nbconvert_exporter": "python",
   "pygments_lexer": "ipython3",
   "version": "3.11.9"
  }
 },
 "nbformat": 4,
 "nbformat_minor": 5
}
