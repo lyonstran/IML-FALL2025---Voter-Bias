{
 "cells": [
  {
   "cell_type": "code",
   "execution_count": null,
   "id": "f84f097b",
   "metadata": {},
   "outputs": [],
   "source": [
    "import pandas as pd\n",
    "pd.set_option('display.max_columns', None)"
   ]
  },
  {
   "cell_type": "code",
   "execution_count": null,
   "id": "b07a1b61",
   "metadata": {},
   "outputs": [],
   "source": [
    "#Conference affiliations:  A file showing,  for each week/season and each team earning points in this week/season, \n",
    "# the conference affiliation (SEC, BIG10, ACC, BIG12, PAC10. \n",
    "# Note:Since teams occasionally change conferences, just having a list of teams along with their affiliation won’t do.\n",
    "df = pd.read_csv(r\"C:\\Users\\lyons\\OneDrive\\Desktop\\IML-FALL2025---Voter-Bias\\original_data\\college_football_polls_original.csv\")\n",
    "df"
   ]
  },
  {
   "cell_type": "code",
   "execution_count": null,
   "id": "282d846e",
   "metadata": {},
   "outputs": [],
   "source": [
    "season_2014 = df[df.Season == '2014']\n",
    "season_2014 "
   ]
  },
  {
   "cell_type": "code",
   "execution_count": null,
   "id": "32fbe13e",
   "metadata": {},
   "outputs": [],
   "source": [
    "long2014 = season_2014.melt(id_vars = ['Season', 'Week', 'Pollster'], value_vars=[col for col in df.columns if col.endswith(('st', 'nd', 'rd', 'th'))],\n",
    "                            var_name = 'Rank', value_name = 'Team').dropna(subset = ['Team'])\n",
    "rank_points = {f\"{i}th\": 26 - i for i in range (4, 26)} #4th to 26th place -> think about dealing with 26th later\n",
    "rank_points.update({'1st': 25, '2nd': 24, '3rd': 23 })\n",
    "long2014['Points'] = long2014['Rank'].map(rank_points)\n",
    "\n",
    "df2014 = long2014.groupby(['Season', 'Week', 'Team'], as_index = False, )['Points'].sum().rename(columns = {'Points' : 'Total_Points'})\n",
    "conf_map_2014 = {\n",
    "    \"florida-state-seminoles\": \"ACC\",\n",
    "    \"oregon-ducks\": \"PAC12\",\n",
    "    \"alabama-crimson-tide\": \"SEC\",\n",
    "    \"ohio-state-buckeyes\": \"BIG10\",\n",
    "    \"auburn-tigers\": \"SEC\",\n",
    "    \"oklahoma-sooners\": \"BIG12\",\n",
    "    \"michigan-state-spartans\": \"BIG10\",\n",
    "    \"ucla-bruins\": \"PAC12\",\n",
    "    \"usc-trojans\": \"PAC12\",\n",
    "    \"baylor-bears\": \"BIG12\",\n",
    "    \"wisconsin-badgers\": \"BIG10\",\n",
    "    \"lsu-tigers\": \"SEC\",\n",
    "    \"ole-miss-rebels\": \"SEC\",\n",
    "    \"mississippi-state-bulldogs\": \"SEC\",\n",
    "    \"texas-am-aggies\": \"SEC\",\n",
    "    \"clemson-tigers\": \"ACC\",\n",
    "    \"notre-dame-fighting-irish\": \"Independent\",\n",
    "    \"georgia-bulldogs\": \"SEC\",\n",
    "    \"arizona-state-sun-devils\": \"PAC12\",\n",
    "    \"stanford-cardinal\": \"PAC12\",\n",
    "    \"texas-longhorns\": \"BIG12\",\n",
    "    \"washington-huskies\": \"PAC12\",\n",
    "    \"nebraska-cornhuskers\": \"BIG10\",\n",
    "    \"miami-hurricanes\": \"ACC\",\n",
    "    \"louisville-cardinals\": \"ACC\",\n",
    "    \"oklahoma-state-cowboys\": \"BIG12\",\n",
    "    \"north-carolina-tar-heels\": \"ACC\",\n",
    "    \"florida-gators\": \"SEC\",\n",
    "    \"iowa-hawkeyes\": \"BIG10\",\n",
    "    \"utah-utes\": \"PAC12\"}\n",
    "\n",
    "df2014['Conference'] = df2014['Team'].map(conf_map_2014)\n",
    "df2014\n",
    "\n",
    "#write to csv file -> automate for the rest of the seasons -> make one big file "
   ]
  }
 ],
 "metadata": {
  "kernelspec": {
   "display_name": "Python 3",
   "language": "python",
   "name": "python3"
  },
  "language_info": {
   "codemirror_mode": {
    "name": "ipython",
    "version": 3
   },
   "file_extension": ".py",
   "mimetype": "text/x-python",
   "name": "python",
   "nbconvert_exporter": "python",
   "pygments_lexer": "ipython3",
   "version": "3.11.9"
  }
 },
 "nbformat": 4,
 "nbformat_minor": 5
}
